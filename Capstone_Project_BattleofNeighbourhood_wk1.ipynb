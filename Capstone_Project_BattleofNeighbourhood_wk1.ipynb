{
 "cells": [
  {
   "cell_type": "markdown",
   "metadata": {
    "collapsed": true
   },
   "source": [
    "# <center><u>**THE BATTLE OF NEIGHBOURHOODS - CAPSTONE PROJECT**</u></center>"
   ]
  },
  {
   "cell_type": "markdown",
   "metadata": {},
   "source": [
    "### Author : Parveen Sahrawat\n",
    "### Date : 07 Dec 2019"
   ]
  },
  {
   "cell_type": "markdown",
   "metadata": {},
   "source": [
    "------------"
   ]
  },
  {
   "cell_type": "markdown",
   "metadata": {},
   "source": [
    "###### Contents:\n",
    "1. Introduction.<br>\n",
    "    1.1. Topic.<br>\n",
    "    1.2. Problem Statement<br>\n",
    "    1.2. Audience<br><br>\n",
    "2. Data.<br>\n",
    "2.1. Data Requirement<br>\n",
    "2.2. Data Source<br>"
   ]
  },
  {
   "cell_type": "markdown",
   "metadata": {},
   "source": [
    "###### Introduction"
   ]
  },
  {
   "cell_type": "markdown",
   "metadata": {},
   "source": [
    "Topic:\n",
    "Changi Business Park (CBP)in Singapore is one of the main business hubs. It is second Business park of Singapore following the International Business Park (IBP)in Jurong East. CBP comprises a mix of high technology business, data and Software enterprises, research and development and knowledge intensive facilities. As a result lot of people from other parts of the world migrate to this area with relation to their business and jobs. One of the concern of people is to know the neighbourhood,venues nearby and place to stay. Particularly for Indians to identify the places where Indian food is easily available.\n",
    "\n",
    "Problem Statement:\n",
    "To find the neighbourhood venues near to Changi Business Park and a suitable place to stay.\n",
    "\n",
    "Audience:\n",
    "This report is relevant to people who are moving in CBP Singapore. Particularly it will be addressing Indians, who are coming to Singapore and likely to work in CBP area."
   ]
  },
  {
   "cell_type": "markdown",
   "metadata": {},
   "source": [
    "###### Data"
   ]
  },
  {
   "cell_type": "markdown",
   "metadata": {},
   "source": [
    "Data Requirement: Following data will be required to analyse and reach to the conclusion:<br>\n",
    "    1. List of neighbourhood.<br>\n",
    "    2. List of venues like Restaurants, Malls and shopping centers and other amenities.<br>\n",
    "    3. Distance from workplace (CBP).<br>\n",
    "    4. Transportation facilities.<br>\n",
    "      \n",
    "      \n",
    " \n",
    "Data Source: Following Datasources will be used to get the relevant data.<br>\n",
    "    1. Neighbourhood and Postal code will be compiled from https://en.wikipedia.org/wiki/Postal_codes_in_Singapore .<br>\n",
    "    2. Algorithm using nomantim will be used to get geodata for various venues and neighbourhood.<br>\n",
    "    3. Singapore MRT stations will be opbtatined from https://en.wikipedia.org/wiki/List_of_Singapore_MRT_stations .<br>\n",
    "    4. For rental rates we will get CSV from https://data.gov.sg/ which publishes district wise rental rates for various type of properties\n",
    "</p>"
   ]
  },
  {
   "cell_type": "code",
   "execution_count": null,
   "metadata": {},
   "outputs": [],
   "source": []
  }
 ],
 "metadata": {
  "kernelspec": {
   "display_name": "Python 3.6",
   "language": "python",
   "name": "python3"
  },
  "language_info": {
   "codemirror_mode": {
    "name": "ipython",
    "version": 3
   },
   "file_extension": ".py",
   "mimetype": "text/x-python",
   "name": "python",
   "nbconvert_exporter": "python",
   "pygments_lexer": "ipython3",
   "version": "3.6.8"
  }
 },
 "nbformat": 4,
 "nbformat_minor": 1
}
